{
 "cells": [
  {
   "cell_type": "markdown",
   "metadata": {},
   "source": [
    "# 2. 넘파이로 공부하는 선형대수"
   ]
  },
  {
   "cell_type": "markdown",
   "metadata": {},
   "source": [
    "## 2.1 데이터의 유형"
   ]
  },
  {
   "cell_type": "markdown",
   "metadata": {},
   "source": [
    "&nbsp;&nbsp;&nbsp;&nbsp;- 스칼라, 벡터, 행렬, 텐서  \n",
    "  \n",
    "&nbsp;&nbsp;&nbsp;&nbsp;\\*참고 : 특징벡터(fature vector): 데이터 벡터가 예측 문제에서 입력 데이터로 사용되면 특징벡터(feature vector)라고 한다."
   ]
  },
  {
   "cell_type": "markdown",
   "metadata": {},
   "source": [
    "## 2.2 전치연산(transpose)"
   ]
  },
  {
   "cell_type": "markdown",
   "metadata": {},
   "source": [
    "## 2.3 행렬의 행 표기법과 열 표기법\n",
    "## 2.4 특수한 벡터와 행렬"
   ]
  },
  {
   "cell_type": "markdown",
   "metadata": {},
   "source": [
    "- 영벡터(zero-vector), 일벡터(one-vector), 정방행렬(square matrix), 대각행렬(diagonal matrix), 항등행렬(identuty matrix), 대칭행렬(symmetric matrix)  \n",
    "  \n",
    "**[정의]**  \n",
    "  \n",
    "&nbsp;&nbsp;&nbsp;&nbsp;정방행렬(square matrix) : 행의 개수와 영의 개수가 같은 행렬"
   ]
  },
  {
   "cell_type": "markdown",
   "metadata": {},
   "source": [
    "&nbsp;&nbsp;&nbsp;&nbsp;대각행렬(diagonal matrix):  \n",
    "$$ D = \\begin{bmatrix}\n",
    "d_1 & 0 & \\cdots & 0 \\\\\n",
    "0 & d_2 & \\cdots & 0 \\\\\n",
    "\\vdots & \\vdots & \\ddots & \\vdots \\\\\n",
    "0 & 0 & \\cdots & d_N \\\\\n",
    "\\end{bmatrix} $$\n",
    "\n",
    "$$ D \\in \\mathbf{R}^{N \\times N}$$"
   ]
  },
  {
   "cell_type": "markdown",
   "metadata": {},
   "source": [
    "&nbsp;&nbsp;&nbsp;&nbsp;&nbsp;&nbsp;&nbsp;&nbsp;특징 : 꼭 정방행렬이 아니여도 됨\n",
    "$$ D = \\begin{bmatrix}\n",
    "d_1 & 0 & \\cdots & 0 \\\\\n",
    "0 & d_2 & \\cdots & 0 \\\\\n",
    "\\vdots & \\vdots & \\ddots & \\vdots \\\\\n",
    "0 & 0 & \\cdots & d_N \\\\\n",
    "0 & 0 & \\cdots & 0 \\\\\n",
    "0 & 0 & \\cdots & 0 \\\\\n",
    "0 & 0 & \\cdots & 0\n",
    "\\end{bmatrix} $$\n",
    "\n",
    "$$ D \\in \\mathbf{R}^{M \\times N}$$"
   ]
  },
  {
   "cell_type": "markdown",
   "metadata": {},
   "source": [
    "&nbsp;&nbsp;&nbsp;&nbsp;항등행렬(identity matrix)\n",
    "$$ D = \\begin{bmatrix}\n",
    "1 & 0 & \\cdots & 0 \\\\\n",
    "0 & 1 & \\cdots & 0 \\\\\n",
    "\\vdots & \\vdots & \\ddots & \\vdots \\\\\n",
    "0 & 0 & \\cdots & 1\n",
    "\\end{bmatrix} $$\n",
    "\n",
    "$$ I \\in \\mathbf{R}^{N \\times N}$$"
   ]
  },
  {
   "cell_type": "markdown",
   "metadata": {},
   "source": [
    "&nbsp;&nbsp;&nbsp;&nbsp;대칭행렬(symmetric matrix) \n",
    "$$ S^T = S (S \\in \\mathbf{R}^{N \\times N}) $$"
   ]
  }
 ],
 "metadata": {
  "kernelspec": {
   "display_name": "Python 3",
   "language": "python",
   "name": "python3"
  },
  "language_info": {
   "codemirror_mode": {
    "name": "ipython",
    "version": 3
   },
   "file_extension": ".py",
   "mimetype": "text/x-python",
   "name": "python",
   "nbconvert_exporter": "python",
   "pygments_lexer": "ipython3",
   "version": "3.7.3"
  }
 },
 "nbformat": 4,
 "nbformat_minor": 2
}

{
 "cells": [
  {
   "cell_type": "markdown",
   "metadata": {},
   "source": [
    "# 3장 고급 선형대수"
   ]
  },
  {
   "cell_type": "markdown",
   "metadata": {},
   "source": [
    "## 3.1 선형대수와 해석기하의 기초\n",
    "\n",
    "\n",
    "~~하나의 범주에 대해 많은 숫자를 가지는 데이터와 같은 특정한 특성을 가진 숫자 묶음을 계산하기 위해 기존의 수학(산수?) 보다 좀 더 엄격한 기준을 제안해온 것이 선형대수의 기본이라면 지금은 공간의 성질에 대해 다루는 해석기하의 기초와 해석기하에서 선형대수가 사용되는 방식에 대해 배우고자 한다.~~"
   ]
  },
  {
   "cell_type": "markdown",
   "metadata": {},
   "source": [
    "### 3.1.1 벡터의 기하학적 의미\n",
    "$N$차원 벡터 $a$는 $N$차원의 공간에서\n",
    "- 벡터 $a$의 값으로 표시되는 **점(point)** 또는\n",
    "- 원점과 벡터 $a$의 값으로 표시되는 점을 연결한 **화살표(arrow)**\n",
    "  \n",
    "예를 들어 2차원 벡터 \n",
    "$$\n",
    "a = \n",
    "{\\begin{bmatrix}\n",
    "a_1 \\\\\n",
    "a_2\n",
    "\\end{bmatrix}}\n",
    "$$\n",
    "\n",
    "설명 : 2차원 공간에서 $x$좌표가 $a_1, y$ 좌표가 $a_2$인 점으로 생각할 수 도 있고 또는 **원점**에서 이점을 가리키는 화살표로 생각할 수 있다. 벡터를 화살표로 생각하는 경우에는 길이와 방향을 고정시킨 채 **평행이동** 할 수 있다. ~~화살표로 생각 할 때 무조건 원점에서 가리키는 화살표로 생각해야한다. 2차원 그래프에서 원점이 아닌 다름 점에서 형성된 화살표를 보더라도 그 화살표를 원점으로 옮겨서 생각해야 화살표의 의미인 벡터를 알 수 있다~~\n"
   ]
  },
  {
   "cell_type": "markdown",
   "metadata": {},
   "source": [
    "### 3.1.2 벡터의 길이\n",
    "~~우선 좌표와 화살표의 길이는 점과 화살표를 표시하는 벡터와 다른 개념이다.~~  \n",
    "- 정의 : 벡터 $a$의 기리는 놈(norm) $\\lVert a \\rVert$으로 정의한다.\n",
    "$$\\lVert a \\rVert = \\sqrt{a^ta}=\\sqrt{a^2_1 + \\cdot\\cdot\\cdot + a^2_n}$$\n"
   ]
  },
  {
   "cell_type": "markdown",
   "metadata": {},
   "source": [
    "$\n",
    "a = \n",
    "{\\begin{bmatrix}\n",
    "1 \\\\\n",
    "2\n",
    "\\end{bmatrix}}\n",
    "$"
   ]
  },
  {
   "cell_type": "code",
   "execution_count": 9,
   "metadata": {},
   "outputs": [
    {
     "data": {
      "text/plain": [
       "(array([[2.23606798]]), 2.23606797749979)"
      ]
     },
     "execution_count": 9,
     "metadata": {},
     "output_type": "execute_result"
    }
   ],
   "source": [
    "# 위 벡터의 길이는 \n",
    "a = np.array([1,2]).reshape(-1,1)\n",
    "np.sqrt(a.T@a), np.linalg.norm(a)"
   ]
  },
  {
   "cell_type": "markdown",
   "metadata": {},
   "source": [
    "### 3.1.3 ~~기하학적 의미를 가지는(공간에서 나타나는)~~ 연산"
   ]
  },
  {
   "cell_type": "markdown",
   "metadata": {},
   "source": [
    "- 스칼라와 벡터의 곱\n",
    "    - 양의 실수와 벡터를 곱하면 벡터의 방향은 변하기 않고 실수의 크기 만큼 벡터의 길이가 커진다. 만약 음의 실술르 곱하면 벡터의 방향이 반대가 된다.\n",
    "  \n",
    "- 벡터의 합\n",
    "    - 두 벡터의 합은 그 두벡터를 이웃하는 변으로 가지는 평행사변형의 대각선 벡터가 된다. 또는 벡터를 더하고자 하는 벡터의 끝점으로 평행이동했을 때 이동한 벡터가 가리키는 점의 위치로 생각할 수도 있다.\n",
    "  \n",
    "- 벡터의 차\n",
    "    - 벡터의 차  a−b=c 는 벡터  b 가 가리키는 점으로부터 벡터  a 가 가리키는 점을 연결하는 벡터다. 그 이유는 벡터  b 에 벡터  a−b 를 더하면, 즉 벡터  b 와 벡터  a−b 를 연결하면 벡터  a 가 되어야 하기 때문이다.~~a-b는 a에서 b로 향하는 방향의 화살표 벡터이다~~\n",
    "    - Word2Vec\n",
    "        - ~~Word2Vec에서 보이는 식 \"일본 = 도쿄 + (한국 - 서울)\"은 공간에서 나타나는 기하학적 현상을 말하고 (한국 - 서울)은 한국에서 서울로 향하는 방향이된다. 벡터의 차 결과 새롭게 나타난 방향을 도쿄 위치에 더해(평행이동하여) 도출된 결과를 일본으로 보여주는 알고리즘 Word2Vec이 된다.~~\n",
    "      \n",
    "- 단위벡터\n",
    "    - 길이가 1인 벡터를 **단위벡터(unit vector)라고 한다.** 영벡터가 아닌 임의의 벡터 $x$에 대해 다음 벡터는 벡터 $x$와 **같은 방향**을 가리키는 단위벡터가 된다. ~~방향을 통일시켜 크기를 키우거나 줄이는 도구로 사용될 수 있다.이외에도 많은 경우 사용된다~~\n",
    "    \n",
    "- 벡터의 선형조합\n",
    "    - ~~여러개의 스칼라와 벡터의 곱으로 만들어진 벡터를 더한 것을~~ 선형 조합(linear combination)이라 한다.\n",
    "    \n"
   ]
  },
  {
   "cell_type": "markdown",
   "metadata": {},
   "source": [
    "### 3.1.4 유클리드 거리"
   ]
  },
  {
   "cell_type": "markdown",
   "metadata": {},
   "source": [
    "- 정의 : ~~원점과 하나의 벡터사이에 거리가 아닌 두 벡터 사이의 거리를 구하는 방법 가운데 하나를~~ 유클리드 거리(Euclidean distance)라고 한다.\n",
    "$${\\lVert a-b \\rVert}^2 = {\\lVert a \\rVert}^2 + {\\lVert b \\rVert}^2 - 2a^Tb$$\n"
   ]
  },
  {
   "cell_type": "markdown",
   "metadata": {},
   "source": [
    "### 3.1.5 벡터의 내적과 삼각함수\n",
    "\n",
    "~~유클리드 거리를 구하기 위해서 벡터 a와 벡터 b의 내적($-2a^Tb$)을 알아야 한다. 그리고 내적을 구하기 위해서 $cos\\theta$에 대한 개념을 가져야 한다.다만, 두 벡터가 이루는 각이 90도 즉 직교(orthogonal)이면 $cos90^\\circ=0$으므로 두 벡터의 내적은$0$이 된다.~~  "
   ]
  },
  {
   "cell_type": "markdown",
   "metadata": {},
   "source": [
    "~~[참고] 결국, 기하학에서 비교연산과 유사한 일을 하려면 각도를 고려하여야한다. 다만, 방향성을 고려하지 않고 위치 두 벡터를 비교한다면 두 위치를 직각으로 가정하여(유클리디언 거리 공식의 내적을 0으로 만들어서) 비교연산을 할 수 있겠지만 방향성을 고려하고 싶은 경우 각도를 무시할 수 없다(코사인 유사도 필요).~~ "
   ]
  },
  {
   "cell_type": "markdown",
   "metadata": {},
   "source": [
    "- 벡터의 내적 : \n",
    "$$a^Tb=\\lVert a \\rVert \\lVert b \\rVert cos \\theta$$"
   ]
  },
  {
   "cell_type": "markdown",
   "metadata": {},
   "source": [
    "- $cos\\theta$ : \n",
    "$$ cos\\theta = {b \\over h}$$\n",
    "b = 밑변(adjacent), h=빗변(hypotenuse)"
   ]
  },
  {
   "cell_type": "markdown",
   "metadata": {},
   "source": [
    "- $cos\\theta$의 특징 : \n",
    "$$cos0^{\\circ} = 1$$\n",
    "$$cos90^{\\circ} = 0$$"
   ]
  },
  {
   "cell_type": "markdown",
   "metadata": {},
   "source": [
    "### 3.1.6 직교\n",
    "- 정의 :\n",
    "    - 두 벡터 a와 b가 이루는 각이 90도가 되면 서로 직교(orthogonal)라고한다.~~그리고~~ $cos\\theta = 0$이므로 서로 지교인 두 벡터의 내적은 0이된다.  \n",
    "  \n",
    "- 특징 : \n",
    "$$ a^Tb=b^Ta=0 (두 벡터가 직교한다는 표시는 \"a \\perp b\" 로한다.)$$\n"
   ]
  },
  {
   "cell_type": "markdown",
   "metadata": {},
   "source": [
    "### 3.1.7 정규직교\n",
    "- 만약 $N$개의 단위벡터 $v_1,v_2, \\cdot\\cdot\\cdot , v_N$가 서로 직교하면 정규직교(orthornomal)라고 한다.\n",
    "    - ~~조건 1 :~~ $\\lvert v_i\\rvert = 1$ and\n",
    "    - ~~조건 2 :~~ $v^T_iv_i=1$ and\n",
    "    - ~~조건 3 :~~ $v^T_iv_j=0$\n",
    "    - ~~$\\rightarrow$ 정규직교~~"
   ]
  },
  {
   "cell_type": "markdown",
   "metadata": {},
   "source": [
    "### 3.1.7 코사인유사도\n",
    "\n",
    "$$\n",
    "\\text{cosine similarity}\n",
    "= cos\\theta \n",
    "= \\dfrac{x^Ty}{\\|x\\|\\|y\\|}\n",
    "$$\n",
    "\n",
    "참고 :  코사인 거리\n",
    "$$\n",
    "\\text{cosine distance}\n",
    "= 1 - \\text{cosine similarity} \n",
    "= 1- \\dfrac{x^Ty}{\\|x\\|\\|y\\|}\n",
    "$$"
   ]
  },
  {
   "cell_type": "code",
   "execution_count": null,
   "metadata": {},
   "outputs": [],
   "source": [
    "#벡터의 분해와 성분 및 투영성분과 관련된 내용을 보충해야 함"
   ]
  }
 ],
 "metadata": {
  "kernelspec": {
   "display_name": "Python 3",
   "language": "python",
   "name": "python3"
  },
  "language_info": {
   "codemirror_mode": {
    "name": "ipython",
    "version": 3
   },
   "file_extension": ".py",
   "mimetype": "text/x-python",
   "name": "python",
   "nbconvert_exporter": "python",
   "pygments_lexer": "ipython3",
   "version": "3.7.3"
  }
 },
 "nbformat": 4,
 "nbformat_minor": 2
}

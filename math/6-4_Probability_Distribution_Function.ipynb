{
 "cells": [
  {
   "cell_type": "markdown",
   "metadata": {},
   "source": [
    "# 6 피지엠파이(pgmpy)로 공부하는 확률론"
   ]
  },
  {
   "cell_type": "markdown",
   "metadata": {},
   "source": [
    "## 6.4 확률분포함수"
   ]
  },
  {
   "cell_type": "markdown",
   "metadata": {},
   "source": [
    "### 6.4.1 확률분포\n",
    "어떤 사건에 어느정도의 확률이 할당되었는지 묘사한 정보를 확률분포라 하고 ~~이를 최대한 효과적으로 전달하기 위해 사용되는 함수를 확률분포함수라 한다.~~\n",
    "\n",
    "    - 확률질량함수\n",
    "    - 누적분포함수\n",
    "    - 확률밀도함수"
   ]
  },
  {
   "cell_type": "markdown",
   "metadata": {},
   "source": [
    "### 6.4.2 단순사건과 확률질량함수"
   ]
  },
  {
   "cell_type": "markdown",
   "metadata": {},
   "source": [
    "**단순사건(elementaru event/atomic event)**\n",
    "- 정의 : 표본이 하나인 사건\n",
    "\n",
    "**확률질량함수(probability mass funtion/pmf)**\n",
    "- 정의 : ~~표본의 개수가 유한할 때~~ 단순사건에 대한 확률만 정의하는 함수\n",
    "$$ P(\\left\\{a\\right\\}) = p(a) = 0.2 $$"
   ]
  },
  {
   "cell_type": "markdown",
   "metadata": {},
   "source": [
    "### 6.4.3 구간과 누적분포함수\n",
    "\n",
    "**구간(interval)**  \n",
    "- 정의 :  \n",
    "\n",
    "표본의 수가 무한하면 확률질량함수를 사용하여 확률을 정의할 수 없기 때문에, ~~(하나의 시점에 대한 확률을 제외하고 단순사건에 대한 확률 할당이 어렵고, 하나의 시점에 대한 확률 또한 0이 된다.)~~ 특정 구간을 정하여 확률을 제안한다.\n",
    "  \n",
    "$$ P(\\left\\{ 0^0 \\le \\theta < 30^0 \\right\\}) = 0.2$$\n",
    "  \n",
    "~~단, 확률을 표현하기 위해 위와 같이 매번~~ 두 개의 숫자등을 표기하는 것이 불편하여 시작점을 모두 똑같이 음의 무한대($- \\infty$)로 통일한 특수한 구간 $S_x$를 사용하였다  \n",
    "  \n",
    "$$ S_x = P(-\\infty < x < x ) = 0.2$$"
   ]
  },
  {
   "cell_type": "markdown",
   "metadata": {},
   "source": [
    "**누적분포함수(culmulative distribution function/ cdf)**\n",
    "- 정의 :  \n",
    "~~편의를 위해 무한대를 포함하고 있는 구간을 사용하여 확률을 표시하는 것을~~ 누적분포함수라고 하고 $F(x)$등으로 표시한다.\n",
    "\n",
    "$$P(S_x) = F(S_x)$$\n",
    "\n",
    "- 특징 :\n",
    "    - 음의 무한대에 대한 누적분포함수값은 0 이다. $ F(- \\infty) = 0$\n",
    "    - 양의 무한대에 대한 누적분포함수값은 1 이다. $ F(+ \\infty) = 1$\n",
    "    - 입력이 크면 누적분포함수값은 커진다(단조증가). $ x>y \\rightarrow F(x) \\ge F(y)$\n",
    "    "
   ]
  },
  {
   "cell_type": "markdown",
   "metadata": {},
   "source": [
    "### 6.4.4 확률밀도함수\n",
    "누적분포함수는 절대로 내려가지 않는 단조증가 성질을 가지기 때문에 ~~특정 구간에 대한 확률~~을 직관적으로 이해하기 힘든 단점이 있다. 다시 말해서 어떤 확률 변수 값이 더 자주 나오는지에 대한 정보를 알기 힘들다는 점이다.\n",
    "\n",
    "- 정의 : 누적분포함수를 미분하여 구한 도함수를 확률밀도함수(pobability density function/ pdf)라고 한다.\n",
    "  \n",
    "$$ p(x) = dF(x) \\over dx$$\n",
    "\n",
    "- 특징 : \n",
    "    - 확률밀도함수는 특정한 구간의 확률이 다른 구간에 비해 상대적으로 얼마나 높은가를 나타내는 것이며 그 값 자체가 확률은 아니다.\n",
    "    - 특정 구간의 확률 즉 차는 확률밀도함수의 면적(정적분) 값과 같다.\n",
    "  \n",
    "$$ F(x_2) - F(x_1) = \\int_{x_1}^{x_2} p(u)\\, du $$"
   ]
  }
 ],
 "metadata": {
  "kernelspec": {
   "display_name": "Python 3",
   "language": "python",
   "name": "python3"
  },
  "language_info": {
   "codemirror_mode": {
    "name": "ipython",
    "version": 3
   },
   "file_extension": ".py",
   "mimetype": "text/x-python",
   "name": "python",
   "nbconvert_exporter": "python",
   "pygments_lexer": "ipython3",
   "version": "3.7.3"
  }
 },
 "nbformat": 4,
 "nbformat_minor": 2
}

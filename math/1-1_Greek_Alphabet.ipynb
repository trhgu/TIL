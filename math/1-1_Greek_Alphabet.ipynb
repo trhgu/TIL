{
 "cells": [
  {
   "cell_type": "markdown",
   "metadata": {},
   "source": [
    "|대문자|소문자|영어표기법|\n",
    "|:---:|:-----:|:-----|\n",
    "|$A$ |$\\alpha$|alpha|\n",
    "|$B$|$\\beta$|beta|\n",
    "|$\\Gamma$|$\\gamma$|gamma|\n",
    "|$\\Delta$|$\\delta$|delta|\n",
    "|$E$|$\\epsilon$|epsilon|\n",
    "|$Z$|$\\zeta$|zeta|\n",
    "|$H$|$\\eta$|eta|\n",
    "|$\\Theta$|$\\theta$|theta|\n",
    "|$K$|$\\kappa$|kappa|\n",
    "|$\\Lambda$|$\\lambda$|lambda|\n",
    "|$M$|$\\mu$|mu|\n",
    "|$N$|$\\nu$|nu|\n",
    "|$\\Xi$|$\\xi$|xi|\n",
    "|$\\Pi$|$\\pi$|pi|\n",
    "|$P$|$\\rho$|rho|\n",
    "|$\\Sigma$|$\\sigma$|sigma|\n",
    "|$T$|$\\tau$|tau|\n",
    "|$\\Phi$|$\\phi$|phi|\n",
    "|$X$|$\\chi$|chi|\n",
    "|$\\Psi$|$\\psi$|psi|\n",
    "|$\\Omega$|$\\omega$|omega|"
   ]
  }
 ],
 "metadata": {
  "kernelspec": {
   "display_name": "Python 3",
   "language": "python",
   "name": "python3"
  },
  "language_info": {
   "codemirror_mode": {
    "name": "ipython",
    "version": 3
   },
   "file_extension": ".py",
   "mimetype": "text/x-python",
   "name": "python",
   "nbconvert_exporter": "python",
   "pygments_lexer": "ipython3",
   "version": "3.7.4"
  }
 },
 "nbformat": 4,
 "nbformat_minor": 2
}

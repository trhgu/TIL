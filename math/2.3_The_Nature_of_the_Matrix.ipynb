{
 "cells": [
  {
   "cell_type": "markdown",
   "metadata": {},
   "source": []
  },
  {
   "cell_type": "markdown",
   "metadata": {},
   "source": []
  },
  {
   "cell_type": "markdown",
   "metadata": {},
   "source": [
    "### 2.3.1 정부호와 준정부호"
   ]
  },
  {
   "cell_type": "markdown",
   "metadata": {},
   "source": [
    "양의 정부호(positive defien)와 준정부호(positive semi-definite)는 보통 대칭행렬에 대해서만 정의한다."
   ]
  },
  {
   "cell_type": "markdown",
   "metadata": {},
   "source": [
    "- 놈(norm)의 특징\n",
    "$$ \\alpha (스칼라) $$\n",
    "$$ \n",
    "\\lVert A \\rVert \\ge 0, \n",
    "\\lVert \\alpha A \\rVert = \\left\\vert \\alpha \\right\\vert \\lVert A \\rVert,\n",
    "\\lVert A + B \\rVert \\le \\lVert A \\rVert + \\lVert B \\rVert,\n",
    "\\lVert AB \\rVert \\le \\lVert A \\rVert \\lVert B \\rVert\n",
    "$$"
   ]
  },
  {
   "cell_type": "code",
   "execution_count": 8,
   "metadata": {},
   "outputs": [
    {
     "name": "stdout",
     "output_type": "stream",
     "text": [
      "대각행렬 : \n",
      " [[-4 -3 -2]\n",
      " [-1  0  1]\n",
      " [ 2  3  4]]\n",
      "A의 놈 : \n",
      " 7.745966692414834\n"
     ]
    }
   ],
   "source": [
    "# norm() \n",
    "\n",
    "A = (np.arange(9)-4).reshape((3, 3))\n",
    "A_norm = np.linalg.norm(A)\n",
    "print(\"대각행렬 : \\n\", A)\n",
    "print(\"A의 놈 : \\n\", A_norm)"
   ]
  },
  {
   "cell_type": "markdown",
   "metadata": {},
   "source": [
    "- 대각합(trace)의 특징\n",
    "\n",
    "$$ tr(cA) = c tr(A), tr(A^T) = tr(A), tr(A+B) = tr(A) + tr(B), tr(AB) = tr(BA), tr(ABC) = tr(BCA) = tr(CAB) $$"
   ]
  },
  {
   "cell_type": "markdown",
   "metadata": {},
   "source": [
    "- 트레이스 트릭\n",
    "이차형싱(quadratic form)의 미분을 구하는데 유용하게 사용된다.\n",
    "$$ x^TAx = tr(x^TAx) = tr(Axx^T) = tr(xx^TA) $$"
   ]
  },
  {
   "cell_type": "markdown",
   "metadata": {},
   "source": [
    "- 행렬 A의 놈에 제곱은 A의 전치행렬과 행렬 A의 곱에 대한 트레이시 값과 같다. 이를 통해 행렬 A가 벡터라면 벡터 A가 A의 전치행렬과 A의 곱과 같다. "
   ]
  },
  {
   "cell_type": "code",
   "execution_count": 11,
   "metadata": {},
   "outputs": [
    {
     "data": {
      "text/plain": [
       "3.0"
      ]
     },
     "execution_count": 11,
     "metadata": {},
     "output_type": "execute_result"
    }
   ],
   "source": [
    "# trace()\n",
    "\n",
    "np.trace(np.eye(3))"
   ]
  },
  {
   "cell_type": "code",
   "execution_count": null,
   "metadata": {},
   "outputs": [],
   "source": []
  }
 ],
 "metadata": {
  "kernelspec": {
   "display_name": "Python 3",
   "language": "python",
   "name": "python3"
  },
  "language_info": {
   "codemirror_mode": {
    "name": "ipython",
    "version": 3
   },
   "file_extension": ".py",
   "mimetype": "text/x-python",
   "name": "python",
   "nbconvert_exporter": "python",
   "pygments_lexer": "ipython3",
   "version": "3.7.4"
  }
 },
 "nbformat": 4,
 "nbformat_minor": 2
}

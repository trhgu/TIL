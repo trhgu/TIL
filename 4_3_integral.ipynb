{
 "cells": [
  {
   "cell_type": "code",
   "execution_count": 6,
   "metadata": {},
   "outputs": [
    {
     "data": {
      "text/latex": [
       "$\\displaystyle x e^{x} + e^{x}$"
      ],
      "text/plain": [
       "   x    x\n",
       "x⋅ℯ  + ℯ "
      ]
     },
     "execution_count": 6,
     "metadata": {},
     "output_type": "execute_result"
    }
   ],
   "source": [
    "# integrate() 부정적분 도함수를 원래 함수로 돌리는 것\n",
    "\n",
    "x, y = sympy.symbols('x y')\n",
    "f = x*sympy.exp(x) + sympy.exp(x)\n",
    "f"
   ]
  },
  {
   "cell_type": "code",
   "execution_count": 2,
   "metadata": {},
   "outputs": [
    {
     "data": {
      "text/latex": [
       "$\\displaystyle x e^{x}$"
      ],
      "text/plain": [
       "   x\n",
       "x⋅ℯ "
      ]
     },
     "execution_count": 2,
     "metadata": {},
     "output_type": "execute_result"
    }
   ],
   "source": [
    "sympy.integrate(f)"
   ]
  },
  {
   "cell_type": "code",
   "execution_count": 3,
   "metadata": {},
   "outputs": [
    {
     "data": {
      "text/latex": [
       "$\\displaystyle x^{3}$"
      ],
      "text/plain": [
       " 3\n",
       "x "
      ]
     },
     "execution_count": 3,
     "metadata": {},
     "output_type": "execute_result"
    }
   ],
   "source": [
    "f = 3*x**2\n",
    "sympy.integrate(f)"
   ]
  },
  {
   "cell_type": "code",
   "execution_count": 5,
   "metadata": {},
   "outputs": [
    {
     "data": {
      "text/latex": [
       "$\\displaystyle 3 x^{2} + 2 x + 4 e^{x} + 5 \\log{\\left(x \\right)}$"
      ],
      "text/plain": [
       "   2            x           \n",
       "3⋅x  + 2⋅x + 4⋅ℯ  + 5⋅log(x)"
      ]
     },
     "execution_count": 5,
     "metadata": {},
     "output_type": "execute_result"
    }
   ],
   "source": [
    "f = 2+6*x+4*sympy.exp(x)+5/x\n",
    "sympy.integrate(f)"
   ]
  },
  {
   "cell_type": "code",
   "execution_count": 11,
   "metadata": {},
   "outputs": [
    {
     "data": {
      "text/latex": [
       "$\\displaystyle \\frac{y e^{x^{2} + y^{2}}}{2}$"
      ],
      "text/plain": [
       "    2    2\n",
       "   x  + y \n",
       "y⋅ℯ       \n",
       "──────────\n",
       "    2     "
      ]
     },
     "execution_count": 11,
     "metadata": {},
     "output_type": "execute_result"
    }
   ],
   "source": [
    "f = x*y*sympy.exp(x**2 + y**2)\n",
    "sympy.integrate(f, x)"
   ]
  },
  {
   "cell_type": "code",
   "execution_count": 12,
   "metadata": {},
   "outputs": [],
   "source": [
    "# 정적분(definite integral)\n",
    "f = x**3 - 3*x**2 + x + 6\n",
    "f_inte = sympy.integrate(f)"
   ]
  },
  {
   "cell_type": "code",
   "execution_count": 13,
   "metadata": {},
   "outputs": [
    {
     "data": {
      "text/latex": [
       "$\\displaystyle 10.0$"
      ],
      "text/plain": [
       "10.0000000000000"
      ]
     },
     "execution_count": 13,
     "metadata": {},
     "output_type": "execute_result"
    }
   ],
   "source": [
    "# subs() 심볼릭 함수의 변수에 실제 숫자를 넣어주는 함수\n",
    "# evalf() 실제 숫자가 들어갔을 떄 심볼릭 함수 연산 수행\n",
    "# 0에서 2까지 부정적분\n",
    "(f_inte.subs(x, 2) - f_inte.subs(x, 0)).evalf()"
   ]
  },
  {
   "cell_type": "code",
   "execution_count": 16,
   "metadata": {},
   "outputs": [
    {
     "data": {
      "text/latex": [
       "$\\displaystyle \\left( 10.0, \\  1.1102230246251565e-13\\right)$"
      ],
      "text/plain": [
       "(10.0, 1.1102230246251565e-13)"
      ]
     },
     "execution_count": 16,
     "metadata": {},
     "output_type": "execute_result"
    }
   ],
   "source": [
    "# scipy.quad() 심파이가 아닌 사이파이가 가진 수치적 미분 함수\n",
    "def f(x):\n",
    "    return x**3 - 3*x**2 + x + 6\n",
    "\n",
    "\n",
    "sp.integrate.quad(f, 0, 2)"
   ]
  },
  {
   "cell_type": "code",
   "execution_count": 23,
   "metadata": {},
   "outputs": [
    {
     "data": {
      "text/latex": [
       "$\\displaystyle \\left( -1.0, \\  \\left( -1.0, \\  1.3085085171449517e-14\\right)\\right)$"
      ],
      "text/plain": [
       "(-1.0, (-1.0, 1.3085085171449517e-14))"
      ]
     },
     "execution_count": 23,
     "metadata": {},
     "output_type": "execute_result"
    }
   ],
   "source": [
    "# 4.3.5 다음 정적분의 값을 부정적분과 수치적분 두 가지 방법으로 구하라.\n",
    "f = 3*x**2-6*x+1\n",
    "f_inte = sympy.integrate(f)\n",
    "result = (f_inte.subs(x, 1) - f_inte.subs(x, 0)).evalf()\n",
    "\n",
    "2 + 6 * x + 4 * sympy.exp(x) + 5/x\n",
    "\n",
    "\n",
    "def g(x):\n",
    "    return 3*x**2-6*x+1\n",
    "\n",
    "\n",
    "result2 = sp.integrate.quad(g, 0, 1)\n",
    "\n",
    "result, result2"
   ]
  },
  {
   "cell_type": "code",
   "execution_count": 28,
   "metadata": {},
   "outputs": [
    {
     "data": {
      "text/latex": [
       "$\\displaystyle \\left( 88421.502977378, \\  \\left( -88630.24738260395, \\  46.75280186668396\\right)\\right)$"
      ],
      "text/plain": [
       "(88421.502977378, (-88630.24738260395, 46.75280186668396))"
      ]
     },
     "execution_count": 28,
     "metadata": {},
     "output_type": "execute_result"
    }
   ],
   "source": [
    "f = 2 + 6 * x + 4 * sympy.exp(x) + 5/x\n",
    "f_inte = sympy.integrate(f)\n",
    "result = (f_inte.subs(x, 10) - f_inte.subs(x, 1)).evalf()\n",
    "\n",
    "2 + 6 * x + 4 * sympy.exp(x) + 5/x\n",
    "\n",
    "\n",
    "def g(x):\n",
    "    return 2 + 6 * x + 4 * sympy.exp(x) + 5/x\n",
    "\n",
    "\n",
    "result2 = sp.integrate.quad(g, 10, 0)\n",
    "\n",
    "result, result2"
   ]
  },
  {
   "cell_type": "code",
   "execution_count": 29,
   "metadata": {},
   "outputs": [
    {
     "data": {
      "text/latex": [
       "$\\displaystyle \\left( 0.4999999999999961, \\  1.0684538743333441e-08\\right)$"
      ],
      "text/plain": [
       "(0.4999999999999961, 1.0684538743333441e-08)"
      ]
     },
     "execution_count": 29,
     "metadata": {},
     "output_type": "execute_result"
    }
   ],
   "source": [
    "# scipy.dblquad() 수치이중적분 심파이가 아닌 사이파이가 가진 수치이중적분\n",
    "\n",
    "\n",
    "def f(x, y):\n",
    "    return np.exp(-x * y) / y**2\n",
    "\n",
    "\n",
    "sp.integrate.dblquad(f, 1, np.inf, lambda x: 0, lambda x: np.inf)"
   ]
  },
  {
   "cell_type": "code",
   "execution_count": 37,
   "metadata": {},
   "outputs": [
    {
     "data": {
      "text/latex": [
       "$\\displaystyle \\left( 4.0, \\  4.440892098500626e-14\\right)$"
      ],
      "text/plain": [
       "(4.0, 4.440892098500626e-14)"
      ]
     },
     "execution_count": 37,
     "metadata": {},
     "output_type": "execute_result"
    }
   ],
   "source": [
    "# 4.3.6 다음 정적분의 값을 수치적분으로 구하라.\n",
    "def f(x, y):\n",
    "    return 1 + (x * y)\n",
    "\n",
    "\n",
    "sp.integrate.dblquad(f, -1, 1, lambda x: -1, lambda x: 1)"
   ]
  }
 ],
 "metadata": {
  "kernelspec": {
   "display_name": "Python 3",
   "language": "python",
   "name": "python3"
  },
  "language_info": {
   "codemirror_mode": {
    "name": "ipython",
    "version": 3
   },
   "file_extension": ".py",
   "mimetype": "text/x-python",
   "name": "python",
   "nbconvert_exporter": "python",
   "pygments_lexer": "ipython3",
   "version": "3.7.4"
  }
 },
 "nbformat": 4,
 "nbformat_minor": 2
}

{
 "cells": [
  {
   "cell_type": "markdown",
   "metadata": {},
   "source": []
  },
  {
   "cell_type": "markdown",
   "metadata": {},
   "source": [
    "2.3 행렬의 성질"
   ]
  },
  {
   "cell_type": "markdown",
   "metadata": {},
   "source": [
    "### 2.3.1 정부호와 준정부호"
   ]
  },
  {
   "cell_type": "markdown",
   "metadata": {},
   "source": [
    "~양의 정부호(positive defien)와 준정부호(positive semi-definite)는 보통 대칭행렬에 대해서만 정의한다. 행렬을 이용하여 자주사용하는 연산 가운데 하나 정도로도 이해한다.~"
   ]
  },
  {
   "cell_type": "markdown",
   "metadata": {},
   "source": [
    "- 놈(norm)의 특징\n",
    "$$ \\alpha (스칼라) $$\n",
    "$$ \n",
    "\\lVert A \\rVert \\ge 0, \n",
    "\\lVert \\alpha A \\rVert = \\left\\vert \\alpha \\right\\vert \\lVert A \\rVert,\n",
    "\\lVert A + B \\rVert \\le \\lVert A \\rVert + \\lVert B \\rVert,\n",
    "\\lVert AB \\rVert \\le \\lVert A \\rVert \\lVert B \\rVert\n",
    "$$"
   ]
  },
  {
   "cell_type": "code",
   "execution_count": 8,
   "metadata": {},
   "outputs": [
    {
     "name": "stdout",
     "output_type": "stream",
     "text": [
      "대각행렬 : \n",
      " [[-4 -3 -2]\n",
      " [-1  0  1]\n",
      " [ 2  3  4]]\n",
      "A의 놈 : \n",
      " 7.745966692414834\n"
     ]
    }
   ],
   "source": [
    "# norm()\n",
    "\n",
    "A = (np.arange(9)-4).reshape((3, 3))\n",
    "A_norm = np.linalg.norm(A)\n",
    "print(\"대각행렬 : \\n\", A)\n",
    "print(\"A의 놈 : \\n\", A_norm)"
   ]
  },
  {
   "cell_type": "markdown",
   "metadata": {},
   "source": [
    "- 대각합(trace)의 특징\n",
    "\n",
    "$$ tr(cA) = c tr(A), tr(A^T) = tr(A), tr(A+B) = tr(A) + tr(B), tr(AB) = tr(BA), tr(ABC) = tr(BCA) = tr(CAB) $$"
   ]
  },
  {
   "cell_type": "markdown",
   "metadata": {},
   "source": [
    "- 트레이스 트릭\n",
    "이차형싱(quadratic form)의 미분을 구하는데 유용하게 사용된다.\n",
    "$$ x^TAx = tr(x^TAx) = tr(Axx^T) = tr(xx^TA) $$"
   ]
  },
  {
   "cell_type": "markdown",
   "metadata": {},
   "source": [
    "- 행렬 A의 놈에 제곱은 A의 전치행렬과 행렬 A의 곱에 대한 트레이시 값과 같다. 이를 통해 행렬 A가 벡터라면 벡터 A가 A의 전치행렬과 A의 곱과 같다. "
   ]
  },
  {
   "cell_type": "code",
   "execution_count": 11,
   "metadata": {},
   "outputs": [
    {
     "data": {
      "text/plain": [
       "3.0"
      ]
     },
     "execution_count": 11,
     "metadata": {},
     "output_type": "execute_result"
    }
   ],
   "source": [
    "# trace()\n",
    "\n",
    "np.trace(np.eye(3))"
   ]
  },
  {
   "cell_type": "markdown",
   "metadata": {},
   "source": [
    "- 행렬식(determinant)\n",
    "    - 여인수 전개(cofactor expansion)라고 불리는 식을 이용하여 ~행렬식~을 계산한다. 이식에서 $a_{ij}는 A 의 i행, j열 원소이고 i_0(또는 j_0)는 계산하는 사람이 임으로 선택한 행번호(또는 열번호)이다"
   ]
  },
  {
   "cell_type": "markdown",
   "metadata": {},
   "source": [
    "$$ \n",
    "\\begin{align}\n",
    "\\det(A) = \\sum_{i=1}^N \\left\\{ (-1)^{i+j_0}M_{i,j_0} \\right\\} a_{i,j_0}  \n",
    "\\tag{2.3.29}\n",
    "\\end{align}\n",
    "$$\n",
    "\n",
    "또는 \n",
    "\n",
    "$$ \n",
    "\\begin{align}\n",
    "\\det(A) = \\sum_{j=1}^N \\left\\{ (-1)^{i_0+j} M_{i_0,j} \\right\\} a_{i_0,j} \n",
    "\\tag{2.3.30}\n",
    "\\end{align}\n",
    "$$"
   ]
  },
  {
   "cell_type": "markdown",
   "metadata": {},
   "source": [
    "위에서 '또는'이라고 한 이유는 두 식 중 아무거나 써도 같은 결과가 나오기 때문이다. 즉 행렬에서 임의의 행 $i_0$ 하나를 선택하거나 임의의 열 $j_0$ 하나를 선택한 다음 이 값에 가중치$(-1)^{i+j_0} M_{i,j_0}$ 또는 $(-1)^{i_0 + j} M_{i,j_0}$ 를 곱하여 더한 것이다. 여기서 $M$는 마이너(minor, 소행식)라고 하며 정방행렬 A에서 i행과 j열을 지워서 얻어진(원래의 행렬보다 크기가 1만큼 작은 행렬의 행렬식이다. 마이너값도 행렬식이므로 마찬가지로 위의 정의를 이용하여 계산한다. 이처럼 점점 크기가 작은 행렬의 행렬식을 구하다 보면 스칼라인 행렬이 나오게 되는데 행렬식의 값이 자기 자신이 된다. 따라서 행렬식을 구하는 방법은 재귀적(recursive)이다."
   ]
  },
  {
   "cell_type": "markdown",
   "metadata": {},
   "source": [
    "- 여인수(cofactor) : 마이너에 $(-1)^{i+j_0}$를 곱한 값\n",
    "\n",
    "$$ C_{i,j} = (-1)^{i+j} M_{i,j}$$\n",
    "\n",
    "$$ \n",
    "\\begin{align}\n",
    "\\det(A) = \\sum_{i=1}^N C_{i,j_0} a_{i,j_0}  =  \\sum_{j=1}^N C_{i_0,j} a_{i_0,j}  \n",
    "\\tag{2.3.32}\n",
    "\\end{align}\n",
    "$$\n"
   ]
  },
  {
   "cell_type": "code",
   "execution_count": 8,
   "metadata": {},
   "outputs": [
    {
     "name": "stdout",
     "output_type": "stream",
     "text": [
      "0\n"
     ]
    }
   ],
   "source": [
    "# 1. 행렬 제안\n",
    "A = ([1, 2, 3],\n",
    "     [4, 5, 6],\n",
    "     [7, 8, 9])\n",
    "\n",
    "# 2. 임의의 열 (혹은 행) 선택\n",
    "A_11, A_21, A_31 = A[0][0], A[1][0], A[2][0]\n",
    "\n",
    "# 행렬식은 행렬을 도출하고 그 행렬을 다시 연사하는 재귀적 성격을 가지기 때문에 아래 순서를 거꾸로 제안하였다.\n",
    "# 4. 2차 행렬식 계산\n",
    "M_11 = ((((-1)**(1+1)*A[1][1])*A[2][2])\n",
    "        + (((-1)**(2+1)*A[2][1])*A[1][2]))\n",
    "\n",
    "M_21 = ((((-1)**(1+1)*A[0][1])*A[2][2])\n",
    "        + (((-1)**(2+1)*A[2][1])*A[0][2]))\n",
    "\n",
    "M_31 = ((((-1)**(1+1)*A[0][1])*A[1][2])\n",
    "        + (((-1)**(2+1)*A[1][1])*A[0][2]))\n",
    "\n",
    "# 3. 1차 행렬식  계산(스칼라가 도출될 떄까지)\n",
    "print((((-1)**(1+1)*M_11)*A_11)\n",
    "      + (((-1)**(2+1)*M_21)*A_21)\n",
    "      + (((-1)**(3+1)*M_31)*A_31))"
   ]
  },
  {
   "cell_type": "code",
   "execution_count": 10,
   "metadata": {},
   "outputs": [
    {
     "data": {
      "text/plain": [
       "-9.51619735392994e-16"
      ]
     },
     "execution_count": 10,
     "metadata": {},
     "output_type": "execute_result"
    }
   ],
   "source": [
    "# det() : 행렬식을 계산해주는 함수\n",
    "np.linalg.det(A)"
   ]
  },
  {
   "cell_type": "markdown",
   "metadata": {},
   "source": [
    "- 행렬식(determinant)의 특징\n",
    "$$ \n",
    "det(A^T) = det(A), \n",
    "det(I) = 1, \n",
    "det(AB) = det(A)det(B), \n",
    "A^{-1} = AA^{-1} = I,\n",
    "det(A^{-1}) = {1 \\over det(A)}\n",
    "$$\n"
   ]
  },
  {
   "cell_type": "code",
   "execution_count": 15,
   "metadata": {},
   "outputs": [
    {
     "data": {
      "text/plain": [
       "(6, 4.0)"
      ]
     },
     "execution_count": 15,
     "metadata": {},
     "output_type": "execute_result"
    }
   ],
   "source": [
    "# 연습 문제 2.3.7 다음 행렬이 양의 정부호인지, 양의 준정부호인지 혹은 두가지 중 어느것도 아닌지 판단하라. 그리고 행렬의 대각합과 행렬식을 구하라.\n",
    "\n",
    "A = np.array([\n",
    "    [2, -1, 0],\n",
    "    [-1, 2, -1],\n",
    "    [0, -1, 2]\n",
    "])\n",
    "\n",
    "np.trace(A), np.linalg.det(A)"
   ]
  },
  {
   "cell_type": "code",
   "execution_count": 17,
   "metadata": {},
   "outputs": [
    {
     "data": {
      "text/plain": [
       "(5, -2.0)"
      ]
     },
     "execution_count": 17,
     "metadata": {},
     "output_type": "execute_result"
    }
   ],
   "source": [
    "B = np.array([\n",
    "    [1 ,2],\n",
    "    [3, 4]\n",
    "])\n",
    "\n",
    "np.trace(B), round(np.linalg.det(B), 2)"
   ]
  }
 ],
 "metadata": {
  "kernelspec": {
   "display_name": "Python 3",
   "language": "python",
   "name": "python3"
  },
  "language_info": {
   "codemirror_mode": {
    "name": "ipython",
    "version": 3
   },
   "file_extension": ".py",
   "mimetype": "text/x-python",
   "name": "python",
   "nbconvert_exporter": "python",
   "pygments_lexer": "ipython3",
   "version": "3.7.4"
  }
 },
 "nbformat": 4,
 "nbformat_minor": 2
}

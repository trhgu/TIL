{
 "cells": [
  {
   "cell_type": "markdown",
   "metadata": {},
   "source": [
    "# 2. 넘파이(NumPy)로 공부하는 선형대수"
   ]
  },
  {
   "cell_type": "markdown",
   "metadata": {},
   "source": [
    "## 2.2 백터와 행렬의 연산\n",
    "대량의 데이터에 대한 계산을 간단한 수식으로 나타내기 ~~위해 연산이 필요하다.~~ 다만, 숫자의 사칙연산과 몇가지 다른점이 있다.  \n",
    "- 벡터/행렬의 덧셈과 뺄셈, 스칼라와 벡터/행렬의 곱셈  "
   ]
  },
  {
   "cell_type": "markdown",
   "metadata": {},
   "source": [
    "&nbsp;&nbsp;&nbsp;&nbsp;\\*참고 : 브로드캐스팅"
   ]
  },
  {
   "cell_type": "code",
   "execution_count": 7,
   "metadata": {},
   "outputs": [
    {
     "data": {
      "text/plain": [
       "array([-8, -7, -6, -5, -4])"
      ]
     },
     "execution_count": 7,
     "metadata": {},
     "output_type": "execute_result"
    }
   ],
   "source": [
    "A = np.array([2,3,4,5,6])\n",
    "A-10"
   ]
  },
  {
   "cell_type": "markdown",
   "metadata": {},
   "source": [
    "### 2.2.1 벡터와 벡터의 곱셉\n",
    "- 내적(정의/inner product) : ~~벡터와 벡터의 곱셈의 종류가운데 하나~~  \n",
    "$$ x^Ty = c(스칼라)$$\n",
    "- 특성 :  \n",
    "    - 두벡터를 내적 ~~하기위해 필요한 조건~~  \n",
    "        - 두 벡터의 차원(길이)가 같다.  \n",
    "        - 앞의 벡터가 행벡터이고 뒤의 벡터가 열 벡터이여야 한다."
   ]
  },
  {
   "cell_type": "code",
   "execution_count": 8,
   "metadata": {},
   "outputs": [
    {
     "data": {
      "text/plain": [
       "(array([[32]]), array([[32]]))"
      ]
     },
     "execution_count": 8,
     "metadata": {},
     "output_type": "execute_result"
    }
   ],
   "source": [
    "# dot(), @\n",
    "x = np.array([[1], [2], [3]])\n",
    "y = np.array([[4], [5], [6]])\n",
    "\n",
    "a = x.T @ y  \n",
    "b = np.dot(x.T, y)\n",
    "\n",
    "a,b"
   ]
  },
  {
   "cell_type": "markdown",
   "metadata": {},
   "source": [
    "- 특성(계속):\n",
    "    - 벡터의 내적을 사용하여 데이터 분석하는 예시\n",
    "        - 가중합(weighted sum)\n",
    "        - 가중평균(weighted average) : ~~수업에 배정된 학점을 가중치로 반영하여 성적의 계산할 때 사용되는 것~~\n",
    "        - 유사도(similarity)\n",
    "        - 선형회귀 모형(linear regression model)\n",
    "        - 제곱합(sum of squares) : $x^Tx$"
   ]
  },
  {
   "cell_type": "markdown",
   "metadata": {},
   "source": [
    "### 2.2.2 행렬과 행렬의 곱셈"
   ]
  },
  {
   "cell_type": "code",
   "execution_count": 2,
   "metadata": {
    "scrolled": true
   },
   "outputs": [
    {
     "data": {
      "text/plain": [
       "array([[22, 28],\n",
       "       [49, 64]])"
      ]
     },
     "execution_count": 2,
     "metadata": {},
     "output_type": "execute_result"
    }
   ],
   "source": [
    "# @, dot()\n",
    "A = np.array([[1, 2, 3], [4, 5, 6]]) # 2 X 3 matrix\n",
    "B = np.array([[1, 2], [3, 4], [5, 6]]) # 3 X 2 matirx\n",
    "C = A @ B # (2 X 2 matirix) = (2 X 3 matrix) X (3 x 2 matirx)\n",
    "C  "
   ]
  },
  {
   "cell_type": "markdown",
   "metadata": {},
   "source": [
    "- 특징:\n",
    "    - 교환법칙과 분배법칙\n",
    "$$ AB \\ne BA $$\n",
    "$$ A(B + C) = AB + AC $$\n",
    "$$ (A + B)C = AC + BC $$  \n",
    "\n",
    "  \n",
    "    - 전치연사도 마찬가지로 덧셈/뺄셈에 대해 분배 법칙이 성립한다.\n",
    "  \n",
    "$$ (A + B)^T = A^T + B^T $$\n",
    "  \n",
    "    - 하지만 곱셉의 전치 연산이 분배되면 곱셈의 순서가 바뀐다.\n",
    "  \n",
    "$$ (AB)^T = B^TA^T$$\n",
    "$$ (ABC)^T = C^TB^TA^T$$"
   ]
  },
  {
   "cell_type": "code",
   "execution_count": 3,
   "metadata": {},
   "outputs": [
    {
     "name": "stdout",
     "output_type": "stream",
     "text": [
      "[[22 28]\n",
      " [49 64]] \n",
      " not equal \n",
      " [[ 9 12 15]\n",
      " [19 26 33]\n",
      " [29 40 51]]\n"
     ]
    }
   ],
   "source": [
    "# 교환법칙은 성립하지 않는다.\n",
    "a = A@B\n",
    "b = B@A\n",
    "print (a,\"\\n not equal \\n\", b)"
   ]
  },
  {
   "cell_type": "code",
   "execution_count": 11,
   "metadata": {},
   "outputs": [
    {
     "name": "stdout",
     "output_type": "stream",
     "text": [
      "[[22 49]\n",
      " [28 64]] \n",
      " equal \n",
      " [[22 49]\n",
      " [28 64]]\n"
     ]
    }
   ],
   "source": [
    "# 전치연산이 분배되면 곱셈의 순서가 바뀐다\n",
    "AB_T=A@B\n",
    "B_TA_T = B.T@A.T\n",
    "print(AB_T.T, \"\\n equal \\n\", B_TA_T)"
   ]
  },
  {
   "cell_type": "markdown",
   "metadata": {},
   "source": [
    "$\\bar{x} = {1\\over N} 1_N 1^T_N X$"
   ]
  },
  {
   "cell_type": "code",
   "execution_count": 19,
   "metadata": {},
   "outputs": [
    {
     "data": {
      "text/plain": [
       "array([[5.84333333, 3.05733333, 3.758     , 1.19933333],\n",
       "       [5.84333333, 3.05733333, 3.758     , 1.19933333],\n",
       "       [5.84333333, 3.05733333, 3.758     , 1.19933333],\n",
       "       [5.84333333, 3.05733333, 3.758     , 1.19933333],\n",
       "       [5.84333333, 3.05733333, 3.758     , 1.19933333]])"
      ]
     },
     "execution_count": 19,
     "metadata": {},
     "output_type": "execute_result"
    }
   ],
   "source": [
    "#아래 데이터로 위 행렬의 값을 계산하라. 이 행렬은 첫 번째 열의 값이 모두 같은 값으로 붓꽃의 꽃받침의 길이(sepal length)의 평균이고 두 번째 열의 값이 모두 같은 값으로 붓꽃의 꽃받침의 폭(sepal width)의 평균, 이런 식으로 계산된 행렬이다.\n",
    "from sklearn.datasets import load_iris\n",
    "X = load_iris().data\n",
    "\n",
    "N = X.shape[0]\n",
    "ones = np.ones(N).reshape(-1,1)\n",
    "X_bar = ((ones@ones.T)@X)/N\n",
    "X_bar[:5]"
   ]
  },
  {
   "cell_type": "markdown",
   "metadata": {},
   "source": [
    "- 특징(계속)\n",
    "    - 연속된 행렬의 곱셈은 계산 순서를 임의의 순서로 해도 상관없다."
   ]
  },
  {
   "cell_type": "markdown",
   "metadata": {},
   "source": [
    "### 2.2.4 항등행렬의 곱셈\n",
    "$$ AI = IA =A $$"
   ]
  },
  {
   "cell_type": "markdown",
   "metadata": {},
   "source": [
    "### 2.2.5 행렬과 벡터의 곱\n",
    "- 가장 널리 쓰이는 행렬과 벡터의 곱\n",
    "    - 여러 개의 벡터에 대한 가중합 동시 계산\n",
    "    - 잔차(residual)\n",
    "$$ e_i = y_i - \\hat{y}_i  = y_i - w^Tx_i $$ ~~**자주나온는 형태이니 암기하자**~~\n",
    "    - 잔차 제곱합(RSS : Residual Sum of Squares) : 잔차의 크기~~를 도출하여 비교 등을 하려고 만들어 놓은 것(잔차의 제곱합과 제곱합은 다른개념이다)~~\n",
    "$$\n",
    "\\begin{align}\n",
    "\\sum_{i=1}^{N} e_i^2 = \\sum_{i=1}^{N} (y_i - w^Tx_i)^2 = e^Te =  (y - Xw)^T (y - Xw) \n",
    "\\tag{2.2.83}\n",
    "\\end{align}\n",
    "$$\n",
    "    - 이차형식(Quadratic Form)\n",
    "        - 어떤 벡터와 정방행렬이 '행벡터 x 정방행렬 x 열벡터'의 형식으로 되어 있는 것을 말함\n",
    "$$ x^T A x = \\sum_{i=1}^N \\sum_{j=1}^N a_{i,j} x_i x_j$$"
   ]
  },
  {
   "cell_type": "markdown",
   "metadata": {},
   "source": [
    "   ### 2.2.6 부분행렬\n",
    "   - 특징 : 부분행렬(submatrix)를 이용하여 여러 방법으로 계산할 수 있다.\n",
    "   \n",
    "**1. 앞에 곱해지는 행렬을 행벡터로 나누어 계산해도 된다.**\n",
    "$$\n",
    "\\begin{align}\n",
    "AB \n",
    "=\n",
    "\\begin{bmatrix}\n",
    "\\boxed{\\begin{matrix} \\phantom{} & a_1^T & \\phantom{} \\end{matrix}} \\\\ \n",
    "\\boxed{\\begin{matrix} \\phantom{} & a_2^T & \\phantom{} \\end{matrix}} \\\\ \n",
    "\\end{bmatrix}\n",
    "B\n",
    "=\n",
    "\\begin{bmatrix}\n",
    "\\boxed{\\begin{matrix} \\phantom{} & a_1^TB & \\phantom{} \\end{matrix}} \\\\ \n",
    "\\boxed{\\begin{matrix} \\phantom{} & a_2^TB & \\phantom{} \\end{matrix}} \\\\ \n",
    "\\end{bmatrix} \n",
    "\\tag{2.2.93}\n",
    "\\end{align}\n",
    "$$\n",
    "  \n",
    "**2. 뒤에 곱해지는 행렬을 열벡터로 나누어 계산해도 된다.**\n",
    "$$\n",
    "\\begin{align}\n",
    "AB \n",
    "=\n",
    "A\n",
    "\\begin{bmatrix}\n",
    "\\boxed{\\begin{matrix} \\phantom{\\mathstrut} \\\\ b_1 \\\\ \\phantom{\\mathstrut} \\end{matrix}} \\!\\!\\!\\! & \n",
    "\\boxed{\\begin{matrix} \\phantom{\\mathstrut} \\\\ b_2 \\\\ \\phantom{\\mathstrut} \\end{matrix}}\n",
    "\\end{bmatrix}\n",
    "=\n",
    "\\begin{bmatrix}\n",
    "\\boxed{\\begin{matrix} \\phantom{\\mathstrut} \\\\ Ab_1 \\\\ \\phantom{\\mathstrut} \\end{matrix}} \\!\\!\\!\\! &\n",
    "\\boxed{\\begin{matrix} \\phantom{\\mathstrut} \\\\ Ab_2 \\\\ \\phantom{\\mathstrut} \\end{matrix}}\n",
    "\\end{bmatrix}\n",
    "\\tag{2.2.96}\n",
    "\\end{align}\n",
    "$$\n",
    "\n",
    "**3. 앞에 곱해지는 행렬을 열벡터로, 뒤에 곱해지는 행렬을 행벡터로 나누어 스칼라처럼 계산해도 된다.**\n",
    "\n",
    "$$\n",
    "\\begin{align}\n",
    "AB \n",
    "=\n",
    "\\begin{bmatrix}\n",
    "\\boxed{\\begin{matrix} \\phantom{\\mathstrut} \\\\ a_1 \\\\ \\phantom{\\mathstrut} \\end{matrix}}  \\!\\!\\!\\!& \n",
    "\\boxed{\\begin{matrix} \\phantom{\\mathstrut} \\\\ a_2 \\\\ \\phantom{\\mathstrut} \\end{matrix}}  \\!\n",
    "\\end{bmatrix}\n",
    "\\begin{bmatrix}\n",
    "\\boxed{\\begin{matrix} \\phantom{} & b_1^T & \\phantom{} \\end{matrix}} \\\\ \n",
    "\\boxed{\\begin{matrix} \\phantom{} & b_2^T & \\phantom{} \\end{matrix}} \\\\ \n",
    "\\end{bmatrix}\n",
    "=\n",
    "\\boxed{\\begin{matrix} \\phantom{\\mathstrut} \\\\ a_1 \\\\ \\phantom{\\mathstrut} \\end{matrix}} \n",
    "\\boxed{\\begin{matrix} \\phantom{} & b_1^T & \\phantom{} \\end{matrix}} \n",
    "+\n",
    "\\boxed{\\begin{matrix} \\phantom{\\mathstrut} \\\\ b_1 \\\\ \\phantom{\\mathstrut} \\end{matrix}} \n",
    "\\boxed{\\begin{matrix} \\phantom{} & b_2^T & \\phantom{} \\end{matrix}} \n",
    "\\tag{2.2.98}\n",
    "\\end{align}\n",
    "$$\n"
   ]
  }
 ],
 "metadata": {
  "kernelspec": {
   "display_name": "Python 3",
   "language": "python",
   "name": "python3"
  },
  "language_info": {
   "codemirror_mode": {
    "name": "ipython",
    "version": 3
   },
   "file_extension": ".py",
   "mimetype": "text/x-python",
   "name": "python",
   "nbconvert_exporter": "python",
   "pygments_lexer": "ipython3",
   "version": "3.7.3"
  }
 },
 "nbformat": 4,
 "nbformat_minor": 2
}

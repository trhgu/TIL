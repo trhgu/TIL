{
 "cells": [
  {
   "cell_type": "markdown",
   "metadata": {},
   "source": [
    "# 5 사이파이(Scipy)로 공부하는 최적화"
   ]
  },
  {
   "cell_type": "markdown",
   "metadata": {},
   "source": [
    "## 5.3 선형계획법 문제 이차계획법 문제 "
   ]
  },
  {
   "cell_type": "markdown",
   "metadata": {},
   "source": [
    "~~오차를 최소화하는 최적화 문제에서 벚어나 최적화를 통해 바로 답을 찾을 수 선형계획법과 이차계획법을 소개한다~~"
   ]
  },
  {
   "cell_type": "markdown",
   "metadata": {},
   "source": [
    "### 5.3.1 선형계획법 문제(linear programming)\n",
    "- 정의 : 방정식이나 부등식 제한조건을 가지는 선형모형의 값을 최소화하는 문제  \n",
    "제\n",
    "  \n",
    "-특성 : \n",
    "    - 선형계획법 문제의 기본형(standard form)\n",
    "        - 목적함수 : \n",
    "$$ \\arg\\min_xc^Tx $$\n",
    "        - 등식 제한조건 : \n",
    "$$ Ax = b $$\n",
    "        - 부등식 제한조건 : \n",
    "$$ x \\ge 0 $$\n",
    "\n",
    "    - 표준형을 확장한 정규형(canonical form)\n",
    "        - 목적함수 : \n",
    "$$ \\arg\\min_xc^Tx $$\n",
    "        - 등식 제한조건 : \n",
    "$$ Ax \\le b $$\n",
    "        - 부등식 제한조건 : \n",
    "$$ x \\ge 0 $$\n",
    " "
   ]
  },
  {
   "cell_type": "code",
   "execution_count": 14,
   "metadata": {},
   "outputs": [
    {
     "name": "stdout",
     "output_type": "stream",
     "text": [
      "최적값 :  [300.0, 100.0]\n",
      "예상이익 :  -1400.0\n"
     ]
    }
   ],
   "source": [
    "# Quiz\n",
    "# 어떤 공장에서 두가지 제품을 생산해야 한다고 하자.\n",
    "# 제품 A와 제품 B 각각 100개 이상 생산해야 한다.\n",
    "# 시간은 500시간 밖에 없다.\n",
    "# 제품 A는 생산하는데 1시간이 걸리고 제품 B는 2시간이 걸린다.\n",
    "# 특정 부품이 9800개밖에 없다.\n",
    "# 제품 A는 생산하는데 특정 부품을 4개 필요로 하고 제품 B는 생산하는데 특정 부품을 5개 필요로 한다.\n",
    "# 제품 A의 이익은 하나당 3만원이고 제품 B의 이익은 하나당 5만원이다\n",
    "\n",
    "import scipy.optimize # 최적화 패키지 호출\n",
    "\n",
    "A = np.array([[-1, 0], [0, -1], [1, 2], [4, 5]]) #등식 제한조건의 계수행렬\n",
    "b = np.array([-100, -100, 500, 9800])  # 등식제한 조건의 상수벡터\n",
    "c = np.array([-3, -5]) # 목적함수의 계수 벡터\n",
    "\n",
    "result = sp.optimize.linprog(c, A, b) \n",
    "x = list(result['x']) # x 벡터 출력\n",
    "arg_min = c.T@x\n",
    "print(\"최적값 : \", x)\n",
    "print(\"예상이익 : \", arg_min)"
   ]
  },
  {
   "cell_type": "code",
   "execution_count": 2,
   "metadata": {},
   "outputs": [
    {
     "name": "stdout",
     "output_type": "stream",
     "text": [
      "상태: optimal\n",
      "최적값: 300.0 100.0\n"
     ]
    }
   ],
   "source": [
    "# CVXPY 더 직관적이지만 속도가 느린 방법\n",
    "# conda install cvxpy\n",
    "import cvxpy as cp\n",
    "\n",
    "# 변수의 정의\n",
    "a = cp.Variable()  # A의 생산량\n",
    "b = cp.Variable()  # B의 생산량\n",
    "\n",
    "# 조건의 정의\n",
    "constraints = [\n",
    "    a >= 100,  # A를 100개 이상 생산해야 한다.\n",
    "    b >= 100,  # B를 100개 이상 생산해야 한다. \n",
    "    a + 2 * b <= 500, # 500시간 내에 생산해야 한다.\n",
    "    4 * a + 5 * b <= 9800,  # 부품이 9800개 밖에 없다.\n",
    "]\n",
    "\n",
    "# 문제의 정의\n",
    "obj = cp.Maximize(3 * a + 5 * b)\n",
    "prob = cp.Problem(obj, constraints)\n",
    "\n",
    "# 계산\n",
    "prob.solve() \n",
    "\n",
    "# 결과\n",
    "print(\"상태:\", prob.status)\n",
    "print(\"최적값:\", a.value.round(2), b.value.round(2))"
   ]
  },
  {
   "cell_type": "markdown",
   "metadata": {},
   "source": [
    "### 5.3.2 이차계획법 문제(quadratic programming)\n",
    "- 정의 : 방정식이나 부등식 제한 조건을 가지는 일반화된 이차형식의 값을 최소화하는 문제\n",
    "    - 목적함수 : \n",
    "$$ {1 \\over 2}x^TQx + c^Tx $$\n",
    "    - 등식 제한조건 : \n",
    "$$ Ax = b $$\n",
    "    - 부등식 제한조건 : \n",
    "$$ x \\ge 0 $$"
   ]
  },
  {
   "cell_type": "code",
   "execution_count": 17,
   "metadata": {},
   "outputs": [
    {
     "data": {
      "text/plain": [
       "array([[0.5],\n",
       "       [0.5]])"
      ]
     },
     "execution_count": 17,
     "metadata": {},
     "output_type": "execute_result"
    }
   ],
   "source": [
    "# Quiz\n",
    "# f(x1,x2)=x1^2+x2^2 -> 목적함수\n",
    "# g(x1,x2)=x1+x2−1=0  -> 제한조건\n",
    "# arg min f(x1,x2)\n",
    "\n",
    "from cvxopt import matrix, solvers\n",
    "# 정수 자료형을 사용하지 못하므로 부동소수점 실수로 표시\n",
    "# Cvcopt전용의 matrix자료형으로 바꿔야 한다.\n",
    "Q = matrix(np.diag([2.0, 2.0])) # 대각행렬\n",
    "c = matrix(np.array([0.0, 0.0]))\n",
    "A = matrix(np.array([[1.0, 1.0]]))\n",
    "b = matrix(np.array([[1.0]]))\n",
    "\n",
    "sol = solvers.qp(Q, c, A=A, b=b)\n",
    "np.array(sol['x'])"
   ]
  }
 ],
 "metadata": {
  "kernelspec": {
   "display_name": "Python 3",
   "language": "python",
   "name": "python3"
  },
  "language_info": {
   "codemirror_mode": {
    "name": "ipython",
    "version": 3
   },
   "file_extension": ".py",
   "mimetype": "text/x-python",
   "name": "python",
   "nbconvert_exporter": "python",
   "pygments_lexer": "ipython3",
   "version": "3.7.3"
  }
 },
 "nbformat": 4,
 "nbformat_minor": 2
}

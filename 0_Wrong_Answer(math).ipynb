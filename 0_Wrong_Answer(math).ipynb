{
 "cells": [
  {
   "cell_type": "markdown",
   "metadata": {},
   "source": [
    "### 2019년 10월 15일"
   ]
  },
  {
   "cell_type": "markdown",
   "metadata": {},
   "source": [
    "##### 1. 용어문제"
   ]
  },
  {
   "cell_type": "markdown",
   "metadata": {},
   "source": [
    "- 유사도 : 유사도는 두 벡터가 닮은 정도를 정량적으로 나타낸 값\n",
    "- 특징행렬 : 예측 문제를 풀 때 X 값에 해당하는 행렬으로, n차원의 특성(featuer)을 가지고 있습니다."
   ]
  },
  {
   "cell_type": "markdown",
   "metadata": {},
   "source": [
    "##### 2. 다음은 벡터의 곱셈(내적)과 관련한 용어 및 연산과정입니다. 해당 용어를 벡터의 곱의 형태로 표기하시오"
   ]
  },
  {
   "cell_type": "markdown",
   "metadata": {},
   "source": [
    "가중합 : \n",
    "$$ w_1x_1 + \\cdot\\cdot\\cdot + w_nx_n = \\sum_{i=1}^N w_ix_i= \\begin{bmatrix}w_1w_2 & \\cdots & w_N \\end{bmatrix} \\begin{bmatrix}x_1 \\\\ x_2 \\\\ \\vdots \\\\ x_N \\end{bmatrix} = W^TX$$"
   ]
  },
  {
   "cell_type": "markdown",
   "metadata": {},
   "source": [
    "평균 :\n",
    "$$ \\bar{x} = {1\\over N} \\sum_{i=1}^N x_i = {1\\over N}1^T_N X$$"
   ]
  },
  {
   "cell_type": "markdown",
   "metadata": {},
   "source": [
    "### 2019년 10월 17일"
   ]
  },
  {
   "cell_type": "markdown",
   "metadata": {},
   "source": [
    "###### 1. 용어문제\n",
    "\n",
    "- 양의 정부호(positive definite) : 영 벡터가 아닌 모든 벡터 $x$에 대해 $x^T Ax>0$이 성립하면 행렬 $A$를 양의 정부로 라고 합니다.\n",
    "- 행렬의 크기를 나타내는 개념은 놈(norm), 대각합(trave), 행렬식(determinant)가 있습니다."
   ]
  },
  {
   "cell_type": "markdown",
   "metadata": {},
   "source": [
    "##### 2. 의사역행렬$(A^TA)^{-1}A^T$을 구하는 식을 전개하세요"
   ]
  },
  {
   "cell_type": "markdown",
   "metadata": {},
   "source": [
    "$Ax=b$  \n",
    "$A^TAx = A^Tb$  \n",
    "$(A^TA)^{-1}(A^TA)x = (A^TA)^{-1}Ab$  \n",
    "$x = (A^TA)^TAb$  \n",
    "$x = A^+b$  "
   ]
  },
  {
   "cell_type": "markdown",
   "metadata": {},
   "source": [
    "##### 3. 잔차의 크기는 잔차 벡터의 각 원소를 제곱한 후 더한 잔차 제곱합(RSS : Residal Sum of Squares)를 이용하여 구한다. 아래이 RSS 구하는 식을 풀어쓰세요. (벡터의 이차형식 (Qualdratic From))형태가 포함되도록 풀어쓰세요"
   ]
  },
  {
   "cell_type": "markdown",
   "metadata": {},
   "source": [
    "$$e^Te = \\sum_{i=1}^N (y_i-w^T x_i)^2 $$"
   ]
  },
  {
   "cell_type": "markdown",
   "metadata": {},
   "source": [
    "$$ = (y-Xw)^T(y-Xw)= (y^T-w^TX^T)(y-Xw) $$"
   ]
  },
  {
   "cell_type": "markdown",
   "metadata": {},
   "source": [
    "$$ = yy^T - w^TX^Ty - y^TXw - w^TX^TXw $$"
   ]
  },
  {
   "cell_type": "markdown",
   "metadata": {},
   "source": [
    "### 2019년 10월 21일"
   ]
  },
  {
   "cell_type": "markdown",
   "metadata": {},
   "source": [
    "##### 2. 다음 두벡터가 직교(orthogonal)하는지 증명하세요"
   ]
  },
  {
   "cell_type": "markdown",
   "metadata": {},
   "source": [
    "$$ a = \\begin{bmatrix} 1 \\\\ 2 \\end{bmatrix} $$"
   ]
  },
  {
   "cell_type": "markdown",
   "metadata": {},
   "source": [
    "$$ b = \\begin{bmatrix} -2 \\\\ 1 \\end{bmatrix} $$"
   ]
  },
  {
   "cell_type": "markdown",
   "metadata": {},
   "source": [
    "$$ a^Tb = b^Ta = 0 \\leftrightarrow a \\perp b $$"
   ]
  },
  {
   "cell_type": "markdown",
   "metadata": {},
   "source": [
    "$$ \\begin{bmatrix} 1 & 2 \\end{bmatrix} \\begin{bmatrix} -2 \\\\ 1 \\end{bmatrix} = -2 + 1 = 0 $$"
   ]
  },
  {
   "cell_type": "markdown",
   "metadata": {},
   "source": [
    "### 2019년 10월 22일"
   ]
  },
  {
   "cell_type": "markdown",
   "metadata": {},
   "source": [
    "##### 3. 아래의 행렬 A를 축소형이 아닌 방법으로 특이 분해 했을 경우를 생각해 보고, 빈칸을 채우세요"
   ]
  },
  {
   "cell_type": "markdown",
   "metadata": {},
   "source": [
    "$$ A = \\begin{bmatrix} 3 & 1 \\\\ 1 & 3 \\\\ 1 & 1 \\end{bmatrix} $$"
   ]
  },
  {
   "cell_type": "markdown",
   "metadata": {},
   "source": [
    "1) 특이값의 갯수는 ? 2개  \n",
    "2) 특이값 분해 수식을 아래에 쓰세요? $ A = U \\Sigma V^T $  \n",
    "3) 특이값으로 분해되는 3개 행렬의 차원을 쓰세요(예를 들어, 행렬 B에 대한 차원을 $ B \\in \\mathbf{R}^{N \\times M} $의 형태로 나타내세요.<br>\n",
    "<br>\n",
    "&nbsp;&nbsp;&nbsp;&nbsp; a) $ \\Sigma \\in \\mathbf{R}^{3 \\times 3} $  \n",
    "&nbsp;&nbsp;&nbsp;&nbsp; b) $ U \\in \\mathbf{R}^{3 \\times 3}$  \n",
    "&nbsp;&nbsp;&nbsp;&nbsp; c) $ V \\in \\mathbf{R}^{3 \\times 3}$  "
   ]
  },
  {
   "cell_type": "markdown",
   "metadata": {},
   "source": [
    "### 2019년 10월 24일"
   ]
  },
  {
   "cell_type": "markdown",
   "metadata": {},
   "source": [
    "#####  1. 용어문제\n",
    "- PCA에서는 모사와 측정 데이터가 선형적인 관계로 연결되어 있다고 가정한다. 즉, $i$번째 표본의 측정 데이터 벡터 $x_i$의 각 원소를 선형조합하면 그 뒤에 숨은 $i$번째 표본의 잠재변수(latend variable) $u_i$의 값을 계산할 수 있다고 가정한다. 이를 수식으로 나타내면 $u_i = W^Tx_i$ 이고, 이식에서 $W$는 측정 데이터 벡터의 각 원소를 조합할 가중치 벡터 이다."
   ]
  },
  {
   "cell_type": "markdown",
   "metadata": {},
   "source": [
    "### 2019년 10월 28일"
   ]
  },
  {
   "cell_type": "markdown",
   "metadata": {},
   "source": [
    "#### 1. 용어문제\n",
    "- 2차 도함수 : 도함수를 한 번더 미분하여 만들어진 함수를 2차 도함수라고 하며, 도함수의 기울기를 나타낸다."
   ]
  },
  {
   "cell_type": "markdown",
   "metadata": {},
   "source": [
    "#### 3. 행렬미분법칙의 결과를 쓰세요\n",
    "\n",
    "- 행렬미분법칙 1 : 선형모형 \n",
    "$$f(x) = w^Tx \\rightarrow \\nabla f = {\\partial w^Tx \\over  \\partial x }= w $$"
   ]
  },
  {
   "cell_type": "markdown",
   "metadata": {},
   "source": [
    "- 행렬미분법칙 2 : 이차형식\n",
    "$$ f(x) = x^TAx  \\rightarrow  \\nabla f (X) = {\\partial x^TAx \\over \\partial x} = (A+A^T)x$$"
   ]
  },
  {
   "cell_type": "markdown",
   "metadata": {},
   "source": [
    "- 행렬미분법칙 3 : 행렬과 벡터 곱의 미분\n",
    "$$ f(x) = Ax \\rightarrow \\nabla f(x) = {\\partial (Ax) \\over \\partial x} = A^T$$"
   ]
  },
  {
   "cell_type": "markdown",
   "metadata": {},
   "source": [
    "### 2019년 10월 29일"
   ]
  },
  {
   "cell_type": "markdown",
   "metadata": {},
   "source": [
    "#### 용어문제\n",
    "- 최대경사법 : 방법은 다음과 같이 단순히 현재 위치에서의 기울기 값 $g(x_k)$만을 이용하여 다음에 시도할 위치를 알아내는 방법이다. 이 방법에서 $ \\mu $를 스텝사이즈(step size)라고 하며 최적화를 하는 사람이 알아서 경우에 맞게 잘 정해야 한다. 스텝사이즈가 너무 작으면 최저점을 찾는데 시간이 오래 걸리고 너무 크면 최저점을 찾지 못할 수 있다.\n",
    "$$ x_{k+1} = x_k - \\mu \\nabla f(x_k) = x_k - \\mu g(x_k) $$"
   ]
  },
  {
   "cell_type": "markdown",
   "metadata": {},
   "source": [
    "- 라그랑주 승수법(Lagrange multiplier)에서 목적함수를 쓰세요\n",
    "$$ h(x, \\lambda) = h(x_1,x_2,....,x_n, \\lambda_1, ... , \\lambda_M) = f(x) + \\sum_{j=1}^M \\lambda g_j(x)$$"
   ]
  },
  {
   "cell_type": "markdown",
   "metadata": {},
   "source": [
    "#### 2. 제품 A와 제품 B의 생산량을 각각 $x_1, x_2$라고 하고, 아래의 문제를 정규형 LP(선형계획법:Linear Programming)문제로 표현해 보세요 ( $Ax \\le b$ A: 행렬, B: 벡터). 최소화 하려는 목적함수와 제한 조건을 모두 표시해야 합니다.\n",
    "\n",
    "어떤 공장에서 두가지 제품을 생산해야 한다고 하자\n",
    "    - 제품 A와 제품 B 각각 100개 이상 생산해야 한다.\n",
    "    - 시간은 500시간 밖에 없다.\n",
    "    - 제품 A는 생산하는데 1시간이 걸리고 제품 B는 2시간이 걸린다.\n",
    "    - 특정 부품이 9800개 밖에 없다.\n",
    "    - 제품 A는 생삿하는데 특정 부품을 4개 필요로 하고 제품 B는 생산하는데 특정 부품 5개 필요로 한다.\n",
    "    - 제품 A의 이익은 하나당 3만원이고 제품 B의 이익은 하나당 5만원이다.\n",
    "$$ \n",
    "\\min_x\n",
    "\\begin{bmatrix}\n",
    "- 3 & -5\n",
    "\\end{bmatrix}\n",
    "\\begin{bmatrix}\n",
    "x_1 \\\\ x_2\n",
    "\\end{bmatrix}\n",
    "$$"
   ]
  },
  {
   "cell_type": "markdown",
   "metadata": {},
   "source": [
    "$$\n",
    "\\begin{bmatrix}\n",
    "1 & 0 \\\\\n",
    "0 & 1 \\\\\n",
    "1 & 2 \\\\\n",
    "4 & 5 \n",
    "\\end{bmatrix}\n",
    "{\\begin{bmatrix}\n",
    "x_1 \\\\ \n",
    "x_2\n",
    "\\end{bmatrix}}\n",
    "\\le\n",
    "{\\begin{bmatrix}\n",
    "-100 \\\\\n",
    "-100 \\\\\n",
    "500 \\\\\n",
    "9800\n",
    "\\end{bmatrix}}\n",
    "$$"
   ]
  },
  {
   "cell_type": "markdown",
   "metadata": {},
   "source": [
    "$$\n",
    "{\\begin{bmatrix}\n",
    "x_1 \\\\ \n",
    "x_2\n",
    "\\end{bmatrix}}\n",
    "\\ge\n",
    "{\\begin{bmatrix}\n",
    "0 \\\\ \n",
    "0\n",
    "\\end{bmatrix}}\n",
    "$$"
   ]
  },
  {
   "cell_type": "markdown",
   "metadata": {},
   "source": [
    "#### 3. 손실함수 $f(x_1, x_2)$와 제한조건 $g(x_1, g_2)$가 아래와 같을 때, $x_1, x_2, \\lambda$를 구하세요."
   ]
  },
  {
   "cell_type": "markdown",
   "metadata": {},
   "source": [
    "$$ f(x_1, x_2) = x_1 + x_2$$\n",
    "$$ g(x_1, x_2) = x^2_1 + x^2_2 -8 =0 $$"
   ]
  },
  {
   "cell_type": "markdown",
   "metadata": {},
   "source": [
    "제한조건이 있은 목적함수: \n",
    "$$ h = f + \\lambda g = x_1 + x_2 + \\lambda (x^2_1 + x^2_2 -8) $$\n"
   ]
  },
  {
   "cell_type": "markdown",
   "metadata": {},
   "source": [
    "$$ {\\partial h \\over \\partial x_1} = 1+2 x_1 \\lambda = 0$$"
   ]
  },
  {
   "cell_type": "markdown",
   "metadata": {},
   "source": [
    "$$ {\\partial h \\over \\partial x_2} = 1 + 2x_2 \\lambda = 0 $$"
   ]
  },
  {
   "cell_type": "markdown",
   "metadata": {},
   "source": [
    "$$ {\\partial h \\over \\partial \\lambda} = x^2_1 + x^2_2 -8 = 0 $$"
   ]
  },
  {
   "cell_type": "markdown",
   "metadata": {},
   "source": [
    "단, 목적함수가 최소여야 하기 때문에 \n",
    "$$ x_1 = x_2 = -2, \\lambda = {1 \\over 4 }$$"
   ]
  }
 ],
 "metadata": {
  "kernelspec": {
   "display_name": "Python 3",
   "language": "python",
   "name": "python3"
  },
  "language_info": {
   "codemirror_mode": {
    "name": "ipython",
    "version": 3
   },
   "file_extension": ".py",
   "mimetype": "text/x-python",
   "name": "python",
   "nbconvert_exporter": "python",
   "pygments_lexer": "ipython3",
   "version": "3.7.3"
  }
 },
 "nbformat": 4,
 "nbformat_minor": 2
}
